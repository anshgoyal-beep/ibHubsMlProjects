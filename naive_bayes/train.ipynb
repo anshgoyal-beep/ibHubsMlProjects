{
 "cells": [
  {
   "cell_type": "code",
   "execution_count": 1,
   "metadata": {
    "colab": {},
    "colab_type": "code",
    "id": "eB_zBti3XPMw"
   },
   "outputs": [],
   "source": [
    "import pandas as pd\n",
    "import csv\n",
    "\n",
    "import numpy as np\n",
    "import pickle"
   ]
  },
  {
   "cell_type": "code",
   "execution_count": 2,
   "metadata": {
    "colab": {},
    "colab_type": "code",
    "id": "q0A2CFDFXPM5"
   },
   "outputs": [],
   "source": [
    "x = pd.read_csv('train_X_nb.csv',sep = '\\t',header=None,names=['text'])\n",
    "y = pd.read_csv('train_Y_nb.csv',sep = '\\t',header= None,names=['labels'])"
   ]
  },
  {
   "cell_type": "code",
   "execution_count": 3,
   "metadata": {
    "colab": {
     "base_uri": "https://localhost:8080/",
     "height": 402
    },
    "colab_type": "code",
    "id": "GA2UG6RAXPM-",
    "outputId": "aa990f19-f684-4689-fba2-b6218d746489"
   },
   "outputs": [
    {
     "data": {
      "text/html": [
       "<div>\n",
       "<style scoped>\n",
       "    .dataframe tbody tr th:only-of-type {\n",
       "        vertical-align: middle;\n",
       "    }\n",
       "\n",
       "    .dataframe tbody tr th {\n",
       "        vertical-align: top;\n",
       "    }\n",
       "\n",
       "    .dataframe thead th {\n",
       "        text-align: right;\n",
       "    }\n",
       "</style>\n",
       "<table border=\"1\" class=\"dataframe\">\n",
       "  <thead>\n",
       "    <tr style=\"text-align: right;\">\n",
       "      <th></th>\n",
       "      <th>text</th>\n",
       "    </tr>\n",
       "  </thead>\n",
       "  <tbody>\n",
       "    <tr>\n",
       "      <th>0</th>\n",
       "      <td>Subject: re : faculty lunch  alison ,  i recom...</td>\n",
       "    </tr>\n",
       "    <tr>\n",
       "      <th>1</th>\n",
       "      <td>Subject: request submitted : access request fo...</td>\n",
       "    </tr>\n",
       "    <tr>\n",
       "      <th>2</th>\n",
       "      <td>Subject: re : vmi agreements  hi vince , mark ...</td>\n",
       "    </tr>\n",
       "    <tr>\n",
       "      <th>3</th>\n",
       "      <td>Subject: re : possible summer internship with ...</td>\n",
       "    </tr>\n",
       "    <tr>\n",
       "      <th>4</th>\n",
       "      <td>Subject: cheap oem soft shipping worldwide  do...</td>\n",
       "    </tr>\n",
       "    <tr>\n",
       "      <th>...</th>\n",
       "      <td>...</td>\n",
       "    </tr>\n",
       "    <tr>\n",
       "      <th>4291</th>\n",
       "      <td>Subject: faculty contact and schedule persenta...</td>\n",
       "    </tr>\n",
       "    <tr>\n",
       "      <th>4292</th>\n",
       "      <td>Subject: capital book  to further the process ...</td>\n",
       "    </tr>\n",
       "    <tr>\n",
       "      <th>4293</th>\n",
       "      <td>Subject: failure notice  hi . this is the qmai...</td>\n",
       "    </tr>\n",
       "    <tr>\n",
       "      <th>4294</th>\n",
       "      <td>Subject: this free 7 - day trial will prove th...</td>\n",
       "    </tr>\n",
       "    <tr>\n",
       "      <th>4295</th>\n",
       "      <td>Subject: research dept . move  hello everyone ...</td>\n",
       "    </tr>\n",
       "  </tbody>\n",
       "</table>\n",
       "<p>4296 rows × 1 columns</p>\n",
       "</div>"
      ],
      "text/plain": [
       "                                                   text\n",
       "0     Subject: re : faculty lunch  alison ,  i recom...\n",
       "1     Subject: request submitted : access request fo...\n",
       "2     Subject: re : vmi agreements  hi vince , mark ...\n",
       "3     Subject: re : possible summer internship with ...\n",
       "4     Subject: cheap oem soft shipping worldwide  do...\n",
       "...                                                 ...\n",
       "4291  Subject: faculty contact and schedule persenta...\n",
       "4292  Subject: capital book  to further the process ...\n",
       "4293  Subject: failure notice  hi . this is the qmai...\n",
       "4294  Subject: this free 7 - day trial will prove th...\n",
       "4295  Subject: research dept . move  hello everyone ...\n",
       "\n",
       "[4296 rows x 1 columns]"
      ]
     },
     "execution_count": 3,
     "metadata": {},
     "output_type": "execute_result"
    }
   ],
   "source": [
    "x"
   ]
  },
  {
   "cell_type": "code",
   "execution_count": 4,
   "metadata": {
    "colab": {
     "base_uri": "https://localhost:8080/",
     "height": 402
    },
    "colab_type": "code",
    "id": "Mrf0r_GyXPNF",
    "outputId": "07bc8d87-e80a-441a-a66a-77f072ac2e60"
   },
   "outputs": [
    {
     "data": {
      "text/html": [
       "<div>\n",
       "<style scoped>\n",
       "    .dataframe tbody tr th:only-of-type {\n",
       "        vertical-align: middle;\n",
       "    }\n",
       "\n",
       "    .dataframe tbody tr th {\n",
       "        vertical-align: top;\n",
       "    }\n",
       "\n",
       "    .dataframe thead th {\n",
       "        text-align: right;\n",
       "    }\n",
       "</style>\n",
       "<table border=\"1\" class=\"dataframe\">\n",
       "  <thead>\n",
       "    <tr style=\"text-align: right;\">\n",
       "      <th></th>\n",
       "      <th>labels</th>\n",
       "    </tr>\n",
       "  </thead>\n",
       "  <tbody>\n",
       "    <tr>\n",
       "      <th>0</th>\n",
       "      <td>0</td>\n",
       "    </tr>\n",
       "    <tr>\n",
       "      <th>1</th>\n",
       "      <td>0</td>\n",
       "    </tr>\n",
       "    <tr>\n",
       "      <th>2</th>\n",
       "      <td>0</td>\n",
       "    </tr>\n",
       "    <tr>\n",
       "      <th>3</th>\n",
       "      <td>0</td>\n",
       "    </tr>\n",
       "    <tr>\n",
       "      <th>4</th>\n",
       "      <td>1</td>\n",
       "    </tr>\n",
       "    <tr>\n",
       "      <th>...</th>\n",
       "      <td>...</td>\n",
       "    </tr>\n",
       "    <tr>\n",
       "      <th>4291</th>\n",
       "      <td>0</td>\n",
       "    </tr>\n",
       "    <tr>\n",
       "      <th>4292</th>\n",
       "      <td>0</td>\n",
       "    </tr>\n",
       "    <tr>\n",
       "      <th>4293</th>\n",
       "      <td>1</td>\n",
       "    </tr>\n",
       "    <tr>\n",
       "      <th>4294</th>\n",
       "      <td>1</td>\n",
       "    </tr>\n",
       "    <tr>\n",
       "      <th>4295</th>\n",
       "      <td>0</td>\n",
       "    </tr>\n",
       "  </tbody>\n",
       "</table>\n",
       "<p>4296 rows × 1 columns</p>\n",
       "</div>"
      ],
      "text/plain": [
       "      labels\n",
       "0          0\n",
       "1          0\n",
       "2          0\n",
       "3          0\n",
       "4          1\n",
       "...      ...\n",
       "4291       0\n",
       "4292       0\n",
       "4293       1\n",
       "4294       1\n",
       "4295       0\n",
       "\n",
       "[4296 rows x 1 columns]"
      ]
     },
     "execution_count": 4,
     "metadata": {},
     "output_type": "execute_result"
    }
   ],
   "source": [
    "y"
   ]
  },
  {
   "cell_type": "code",
   "execution_count": 5,
   "metadata": {
    "colab": {
     "base_uri": "https://localhost:8080/",
     "height": 67
    },
    "colab_type": "code",
    "id": "datM-3B2XPNJ",
    "outputId": "766f038b-330c-4bf4-f7b9-2f9a83090383"
   },
   "outputs": [
    {
     "data": {
      "text/plain": [
       "0    0.761173\n",
       "1    0.238827\n",
       "Name: labels, dtype: float64"
      ]
     },
     "execution_count": 5,
     "metadata": {},
     "output_type": "execute_result"
    }
   ],
   "source": [
    "y['labels'].value_counts(normalize = True)"
   ]
  },
  {
   "cell_type": "code",
   "execution_count": 6,
   "metadata": {
    "colab": {},
    "colab_type": "code",
    "id": "OUFdLyOSckR5"
   },
   "outputs": [],
   "source": [
    "import matplotlib.pyplot as plt"
   ]
  },
  {
   "cell_type": "code",
   "execution_count": 7,
   "metadata": {
    "colab": {
     "base_uri": "https://localhost:8080/",
     "height": 278
    },
    "colab_type": "code",
    "id": "JtsqXWo9bWl2",
    "outputId": "16e13923-a0f9-43ef-c17c-731c0e6d379e"
   },
   "outputs": [
    {
     "data": {
      "image/png": "[encoded data removed]",
      "text/plain": [
       "<Figure size 432x288 with 1 Axes>"
      ]
     },
     "metadata": {
      "needs_background": "light"
     },
     "output_type": "display_data"
    }
   ],
   "source": [
    "count_Class=pd.value_counts(y['labels'], sort= True)\n",
    "count_Class.plot(kind= 'bar', color= [\"blue\", \"orange\"])\n",
    "plt.title('Bar chart')\n",
    "plt.show()"
   ]
  },
  {
   "cell_type": "code",
   "execution_count": 8,
   "metadata": {
    "colab": {},
    "colab_type": "code",
    "id": "-2Kx01mpcyMC"
   },
   "outputs": [],
   "source": [
    "import numpy as np\n",
    "import pandas as pd\n",
    "import matplotlib.pyplot as plt\n",
    "from collections import Counter\n",
    "from sklearn import feature_extraction, model_selection, naive_bayes, metrics\n",
    "import warnings\n",
    "warnings.filterwarnings(\"ignore\")\n",
    "%matplotlib inline"
   ]
  },
  {
   "cell_type": "code",
   "execution_count": 9,
   "metadata": {
    "colab": {
     "base_uri": "https://localhost:8080/",
     "height": 67
    },
    "colab_type": "code",
    "id": "jByZrgQzeVP5",
    "outputId": "af0a516e-3602-454c-a897-12ad65056afd"
   },
   "outputs": [
    {
     "name": "stderr",
     "output_type": "stream",
     "text": [
      "[nltk_data] Downloading package stopwords to\n",
      "[nltk_data]     C:\\Users\\anshg\\AppData\\Roaming\\nltk_data...\n",
      "[nltk_data]   Package stopwords is already up-to-date!\n"
     ]
    },
    {
     "data": {
      "text/plain": [
       "True"
      ]
     },
     "execution_count": 9,
     "metadata": {},
     "output_type": "execute_result"
    }
   ],
   "source": [
    "import nltk\n",
    "nltk.download('stopwords')"
   ]
  },
  {
   "cell_type": "code",
   "execution_count": 10,
   "metadata": {
    "colab": {},
    "colab_type": "code",
    "id": "bEbOQFcfc_2O"
   },
   "outputs": [],
   "source": [
    "import string\n",
    "from nltk.corpus import stopwords\n",
    "from nltk import PorterStemmer as Stemmer\n",
    "def process(text):\n",
    "    # lowercase it\n",
    "    text = text.lower()\n",
    "    # remove punctuation\n",
    "    text = ''.join([t for t in text if t not in string.punctuation])\n",
    "    # remove stopwords\n",
    "    text = [t for t in text.split() if t not in stopwords.words('english')]\n",
    "    # stemming\n",
    "    st = Stemmer()\n",
    "    text = [st.stem(t) for t in text]\n",
    "    # return token list\n",
    "    return text"
   ]
  },
  {
   "cell_type": "code",
   "execution_count": 11,
   "metadata": {
    "colab": {
     "base_uri": "https://localhost:8080/",
     "height": 34
    },
    "colab_type": "code",
    "id": "IQk0xoFGePB4",
    "outputId": "38590264-b50b-47f6-bbc7-bb48064ee9b6"
   },
   "outputs": [
    {
     "data": {
      "text/plain": [
       "['holiday', 'play', 'cricket', 'jeff', 'play', 'well']"
      ]
     },
     "execution_count": 11,
     "metadata": {},
     "output_type": "execute_result"
    }
   ],
   "source": [
    "process('It\\'s holiday and we are playing cricket. Jeff is playing very well!!!')"
   ]
  },
  {
   "cell_type": "code",
   "execution_count": 12,
   "metadata": {
    "colab": {
     "base_uri": "https://localhost:8080/",
     "height": 218
    },
    "colab_type": "code",
    "id": "wioFIhtYd2LV",
    "outputId": "e51ad53e-907c-4add-aa28-051270f7a07e"
   },
   "outputs": [
    {
     "data": {
      "text/plain": [
       "0       [subject, faculti, lunch, alison, recommend, i...\n",
       "1       [subject, request, submit, access, request, ra...\n",
       "2       [subject, vmi, agreement, hi, vinc, mark, hols...\n",
       "3       [subject, possibl, summer, internship, enron, ...\n",
       "4       [subject, cheap, oem, soft, ship, worldwid, fu...\n",
       "                              ...                        \n",
       "4291    [subject, faculti, contact, schedul, persent, ...\n",
       "4292    [subject, capit, book, process, reach, state, ...\n",
       "4293    [subject, failur, notic, hi, qmail, send, prog...\n",
       "4294    [subject, free, 7, day, trial, prove, get, rea...\n",
       "4295    [subject, research, dept, move, hello, everyon...\n",
       "Name: text, Length: 4296, dtype: object"
      ]
     },
     "execution_count": 12,
     "metadata": {},
     "output_type": "execute_result"
    }
   ],
   "source": [
    "x['text'].apply(process)"
   ]
  },
  {
   "cell_type": "code",
   "execution_count": 13,
   "metadata": {
    "colab": {},
    "colab_type": "code",
    "id": "DOWRhkbmeAIM"
   },
   "outputs": [],
   "source": [
    "from sklearn.feature_extraction.text import CountVectorizer\n",
    "tfidfv = CountVectorizer(analyzer = process)\n",
    "data = tfidfv.fit_transform(x['text'])"
   ]
  },
  {
   "cell_type": "code",
   "execution_count": 14,
   "metadata": {
    "colab": {
     "base_uri": "https://localhost:8080/",
     "height": 54
    },
    "colab_type": "code",
    "id": "E05n3aS_jOlQ",
    "outputId": "31c1e3fa-a05d-4828-e8d3-2176527e6f49"
   },
   "outputs": [
    {
     "name": "stdout",
     "output_type": "stream",
     "text": [
      "Subject: re : vmi agreements  hi vince , mark holsworth reviewed our contract on such a short notice . i  thank mark for responding to our short - notice request . it turns out that we  need to get this database to move forward on a number of things and have  legal save some time for us is an excellent help . as mentioned below , it  appears that pennwell ' s folks want to chat some more about this .  mark , can you schedule a conference call with these people to finalise this  contract . i will be out of town all week next week on a lock - down deal  meeting . vince may be able to get on the conference call . i would greatly  appreciate it if you could help us close this one !  regards ,  ravi .  - - - - - forwarded by ravi thuraisingham / enron communications on 02 / 20 / 00 12 : 38  am - - - - -  russell @ pennwell . com  02 / 18 / 00 06 : 16 pm  to : ravi thuraisingham / enron communications @ enron communications  cc : toni . turnerbudd @ sbtglaw . com  subject : re : vmi agreements  ravi -  i would like to schedule a conference call between you , me , pennwell ' s  counsel ( toni turner budd ) , and enron ' s counsel to discuss your changes and  finalize the kmi end - user license agreement . i propose that we have the  conference call at 2 : 00 pm cst this monday , february 21 . please let me know  if you are available at this time and , if not , propose an alternative time  for the call . in addition , please provide me with a telephone number where  i can reach you for the conference call .  pennwell is looking forward to finalizing the license agreement and  delivering the kmi data to enron .  yours truly ,  russell iorio  manager of business development  pennwell corporation  1421 south sheridan road  tulsa , ok 74112  russell @ pennwell . com  ( 918 ) 831 - 9122 direct  ( 918 ) 831 - 9476 fax  - - - - - original message - - - - -  from : ravi _ thuraisingham @ enron . net  [ mailto : ravi _ thuraisingham @ enron . net ]  sent : thursday , february 17 , 2000 6 : 30 pm  to : rmack @ kmicorp . com ; mpass @ kmicorp . com ;  russell @ pennwell . com  cc : kristina _ lund @ enron . net ;  stinson _ gibner @ ect . enron . net ; vince _ kaminski @ enron . net ;  earl _ harvey @ enron . net ; tracy _ williams @ enron . net  subject : vmi agreements  >  hi richard , here is a marked up version from our lawyer .  please have your  people look at it and if it seems fine make the changes  and send a signed  copy back to me .  ravi .  - - - - - forwarded by ravi thuraisingham / enron communications  on 02 / 17 / 00 06 : 21 pm  - - - - -  | - - - - - - - - + - - - - - - - - - - - - - - - - - - - - - - - >  | | mark |  | | holsworth @ enr |  | | on |  | | |  | | 02 / 17 / 00 |  | | 04 : 10 pm |  | | |  | - - - - - - - - + - - - - - - - - - - - - - - - - - - - - - - - >  - |  |  |  | to : ravi thuraisingham / enron  communications @ enron communications , |  | gene diers / corp / enron @ enron  |  | cc :  |  | subject : vmi agreements  |  - |  please find attached my redlining of the vmi agreelment .  please review it and  send it to the vendor for their review .  ( see attached file : 2 - 14 - 2000 eula . doc )\n"
     ]
    }
   ],
   "source": [
    "mess = x.iloc[2]['text']\n",
    "print(mess)"
   ]
  },
  {
   "cell_type": "code",
   "execution_count": 16,
   "metadata": {
    "colab": {
     "base_uri": "https://localhost:8080/",
     "height": 1000
    },
    "colab_type": "code",
    "id": "ZwGRCgXHjZP5",
    "outputId": "ce590bd2-22b2-43bf-a0b2-2f0b6950886e"
   },
   "outputs": [
    {
     "name": "stdout",
     "output_type": "stream",
     "text": [
      "index\tidf\ttfidf\tterm\n"
     ]
    }
   ],
   "source": [
    "j = tfidfv.transform([mess]).toarray()[0]\n",
    "print('index\\tidf\\ttfidf\\tterm')\n"
   ]
  },
  {
   "cell_type": "code",
   "execution_count": 17,
   "metadata": {
    "colab": {},
    "colab_type": "code",
    "id": "cGlh-Tgzf3Ec"
   },
   "outputs": [],
   "source": [
    "from sklearn.pipeline import Pipeline\n",
    "from sklearn.naive_bayes import MultinomialNB\n",
    "spam_filter = Pipeline([\n",
    "    ('vectorizer', CountVectorizer(analyzer= process)), # messages to weighted TFIDF score\n",
    "    ('classifier', MultinomialNB(alpha = 1))                    # train on TFIDF vectors with Naive Bayes\n",
    "])"
   ]
  },
  {
   "cell_type": "code",
   "execution_count": 18,
   "metadata": {
    "colab": {
     "base_uri": "https://localhost:8080/",
     "height": 402
    },
    "colab_type": "code",
    "id": "ilopr_frgAI1",
    "outputId": "4594a4fe-95db-4c06-9499-5022a8766fa1"
   },
   "outputs": [
    {
     "data": {
      "text/html": [
       "<div>\n",
       "<style scoped>\n",
       "    .dataframe tbody tr th:only-of-type {\n",
       "        vertical-align: middle;\n",
       "    }\n",
       "\n",
       "    .dataframe tbody tr th {\n",
       "        vertical-align: top;\n",
       "    }\n",
       "\n",
       "    .dataframe thead th {\n",
       "        text-align: right;\n",
       "    }\n",
       "</style>\n",
       "<table border=\"1\" class=\"dataframe\">\n",
       "  <thead>\n",
       "    <tr style=\"text-align: right;\">\n",
       "      <th></th>\n",
       "      <th>text</th>\n",
       "    </tr>\n",
       "  </thead>\n",
       "  <tbody>\n",
       "    <tr>\n",
       "      <th>0</th>\n",
       "      <td>Subject: re : faculty lunch  alison ,  i recom...</td>\n",
       "    </tr>\n",
       "    <tr>\n",
       "      <th>1</th>\n",
       "      <td>Subject: request submitted : access request fo...</td>\n",
       "    </tr>\n",
       "    <tr>\n",
       "      <th>2</th>\n",
       "      <td>Subject: re : vmi agreements  hi vince , mark ...</td>\n",
       "    </tr>\n",
       "    <tr>\n",
       "      <th>3</th>\n",
       "      <td>Subject: re : possible summer internship with ...</td>\n",
       "    </tr>\n",
       "    <tr>\n",
       "      <th>4</th>\n",
       "      <td>Subject: cheap oem soft shipping worldwide  do...</td>\n",
       "    </tr>\n",
       "    <tr>\n",
       "      <th>...</th>\n",
       "      <td>...</td>\n",
       "    </tr>\n",
       "    <tr>\n",
       "      <th>4291</th>\n",
       "      <td>Subject: faculty contact and schedule persenta...</td>\n",
       "    </tr>\n",
       "    <tr>\n",
       "      <th>4292</th>\n",
       "      <td>Subject: capital book  to further the process ...</td>\n",
       "    </tr>\n",
       "    <tr>\n",
       "      <th>4293</th>\n",
       "      <td>Subject: failure notice  hi . this is the qmai...</td>\n",
       "    </tr>\n",
       "    <tr>\n",
       "      <th>4294</th>\n",
       "      <td>Subject: this free 7 - day trial will prove th...</td>\n",
       "    </tr>\n",
       "    <tr>\n",
       "      <th>4295</th>\n",
       "      <td>Subject: research dept . move  hello everyone ...</td>\n",
       "    </tr>\n",
       "  </tbody>\n",
       "</table>\n",
       "<p>4296 rows × 1 columns</p>\n",
       "</div>"
      ],
      "text/plain": [
       "                                                   text\n",
       "0     Subject: re : faculty lunch  alison ,  i recom...\n",
       "1     Subject: request submitted : access request fo...\n",
       "2     Subject: re : vmi agreements  hi vince , mark ...\n",
       "3     Subject: re : possible summer internship with ...\n",
       "4     Subject: cheap oem soft shipping worldwide  do...\n",
       "...                                                 ...\n",
       "4291  Subject: faculty contact and schedule persenta...\n",
       "4292  Subject: capital book  to further the process ...\n",
       "4293  Subject: failure notice  hi . this is the qmai...\n",
       "4294  Subject: this free 7 - day trial will prove th...\n",
       "4295  Subject: research dept . move  hello everyone ...\n",
       "\n",
       "[4296 rows x 1 columns]"
      ]
     },
     "execution_count": 18,
     "metadata": {},
     "output_type": "execute_result"
    }
   ],
   "source": [
    "x"
   ]
  },
  {
   "cell_type": "code",
   "execution_count": 19,
   "metadata": {
    "colab": {
     "base_uri": "https://localhost:8080/",
     "height": 402
    },
    "colab_type": "code",
    "id": "f6tdMHCtgIaV",
    "outputId": "7e54df81-256e-4f9a-ba29-97843137f446"
   },
   "outputs": [
    {
     "data": {
      "text/html": [
       "<div>\n",
       "<style scoped>\n",
       "    .dataframe tbody tr th:only-of-type {\n",
       "        vertical-align: middle;\n",
       "    }\n",
       "\n",
       "    .dataframe tbody tr th {\n",
       "        vertical-align: top;\n",
       "    }\n",
       "\n",
       "    .dataframe thead th {\n",
       "        text-align: right;\n",
       "    }\n",
       "</style>\n",
       "<table border=\"1\" class=\"dataframe\">\n",
       "  <thead>\n",
       "    <tr style=\"text-align: right;\">\n",
       "      <th></th>\n",
       "      <th>labels</th>\n",
       "    </tr>\n",
       "  </thead>\n",
       "  <tbody>\n",
       "    <tr>\n",
       "      <th>0</th>\n",
       "      <td>0</td>\n",
       "    </tr>\n",
       "    <tr>\n",
       "      <th>1</th>\n",
       "      <td>0</td>\n",
       "    </tr>\n",
       "    <tr>\n",
       "      <th>2</th>\n",
       "      <td>0</td>\n",
       "    </tr>\n",
       "    <tr>\n",
       "      <th>3</th>\n",
       "      <td>0</td>\n",
       "    </tr>\n",
       "    <tr>\n",
       "      <th>4</th>\n",
       "      <td>1</td>\n",
       "    </tr>\n",
       "    <tr>\n",
       "      <th>...</th>\n",
       "      <td>...</td>\n",
       "    </tr>\n",
       "    <tr>\n",
       "      <th>4291</th>\n",
       "      <td>0</td>\n",
       "    </tr>\n",
       "    <tr>\n",
       "      <th>4292</th>\n",
       "      <td>0</td>\n",
       "    </tr>\n",
       "    <tr>\n",
       "      <th>4293</th>\n",
       "      <td>1</td>\n",
       "    </tr>\n",
       "    <tr>\n",
       "      <th>4294</th>\n",
       "      <td>1</td>\n",
       "    </tr>\n",
       "    <tr>\n",
       "      <th>4295</th>\n",
       "      <td>0</td>\n",
       "    </tr>\n",
       "  </tbody>\n",
       "</table>\n",
       "<p>4296 rows × 1 columns</p>\n",
       "</div>"
      ],
      "text/plain": [
       "      labels\n",
       "0          0\n",
       "1          0\n",
       "2          0\n",
       "3          0\n",
       "4          1\n",
       "...      ...\n",
       "4291       0\n",
       "4292       0\n",
       "4293       1\n",
       "4294       1\n",
       "4295       0\n",
       "\n",
       "[4296 rows x 1 columns]"
      ]
     },
     "execution_count": 19,
     "metadata": {},
     "output_type": "execute_result"
    }
   ],
   "source": [
    "y"
   ]
  },
  {
   "cell_type": "code",
   "execution_count": 20,
   "metadata": {
    "colab": {
     "base_uri": "https://localhost:8080/",
     "height": 302
    },
    "colab_type": "code",
    "id": "oeDbw42Ihbv0",
    "outputId": "c3e5b89b-b4fe-4916-f50c-6f2d7ac281b1"
   },
   "outputs": [
    {
     "data": {
      "text/plain": [
       "Pipeline(steps=[('vectorizer',\n",
       "                 CountVectorizer(analyzer=<function process at 0x000001F51AD76EE8>)),\n",
       "                ('classifier', MultinomialNB(alpha=1))])"
      ]
     },
     "execution_count": 20,
     "metadata": {},
     "output_type": "execute_result"
    }
   ],
   "source": [
    "spam_filter.fit(x['text'],y['labels'])"
   ]
  },
  {
   "cell_type": "code",
   "execution_count": 21,
   "metadata": {
    "colab": {},
    "colab_type": "code",
    "id": "SpjZoZRYh23f"
   },
   "outputs": [],
   "source": [
    "pickle.dump(spam_filter,open('MODEL_FILE.sav','wb'))"
   ]
  },
  {
   "cell_type": "code",
   "execution_count": null,
   "metadata": {
    "colab": {},
    "colab_type": "code",
    "id": "-irpa8n8km9Q"
   },
   "outputs": [],
   "source": []
  }
 ],
 "metadata": {
  "accelerator": "GPU",
  "colab": {
   "name": "train.ipynb",
   "provenance": []
  },
  "kernelspec": {
   "display_name": "Python 3",
   "language": "python",
   "name": "python3"
  },
  "language_info": {
   "codemirror_mode": {
    "name": "ipython",
    "version": 3
   },
   "file_extension": ".py",
   "mimetype": "text/x-python",
   "name": "python",
   "nbconvert_exporter": "python",
   "pygments_lexer": "ipython3",
   "version": "3.7.6"
  }
 },
 "nbformat": 4,
 "nbformat_minor": 4
}
